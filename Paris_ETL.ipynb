{
 "cells": [
  {
   "cell_type": "code",
   "execution_count": 1,
   "id": "26a21645",
   "metadata": {},
   "outputs": [],
   "source": [
    "import pandas as pd\n",
    "import numpy as np\n",
    "\n",
    "from sklearn.ensemble import RandomForestClassifier\n",
    "from sklearn.preprocessing import StandardScaler\n",
    "from sklearn.model_selection import train_test_split\n",
    "from sklearn.metrics import confusion_matrix, accuracy_score, classification_report\n",
    "%matplotlib inline\n",
    "\n",
    "# Needed for decision tree visualization\n",
    "import pydotplus\n",
    "from IPython.display import Image"
   ]
  },
  {
   "cell_type": "code",
   "execution_count": 2,
   "id": "69aba5d0",
   "metadata": {},
   "outputs": [],
   "source": [
    "paris_weekday_file = \"Resources/paris_weekdays.csv\"\n",
    "paris_weekend_file = \"Resources/paris_weekends.csv\"\n",
    "paris_weekday_data = pd.read_csv(paris_weekday_file)\n",
    "paris_weekend_data = pd.read_csv(paris_weekend_file)"
   ]
  },
  {
   "cell_type": "code",
   "execution_count": 3,
   "id": "c21863ce",
   "metadata": {},
   "outputs": [
    {
     "data": {
      "text/plain": [
       "Index(['Unnamed: 0', 'realSum', 'room_type', 'room_shared', 'room_private',\n",
       "       'person_capacity', 'host_is_superhost', 'multi', 'biz',\n",
       "       'cleanliness_rating', 'guest_satisfaction_overall', 'bedrooms', 'dist',\n",
       "       'metro_dist', 'attr_index', 'attr_index_norm', 'rest_index',\n",
       "       'rest_index_norm', 'lng', 'lat'],\n",
       "      dtype='object')"
      ]
     },
     "execution_count": 3,
     "metadata": {},
     "output_type": "execute_result"
    }
   ],
   "source": [
    "paris_weekday_data.columns"
   ]
  },
  {
   "cell_type": "code",
   "execution_count": 4,
   "id": "8773e48d",
   "metadata": {},
   "outputs": [
    {
     "data": {
      "text/plain": [
       "Index(['Unnamed: 0', 'realSum', 'room_type', 'room_shared', 'room_private',\n",
       "       'person_capacity', 'host_is_superhost', 'multi', 'biz',\n",
       "       'cleanliness_rating', 'guest_satisfaction_overall', 'bedrooms', 'dist',\n",
       "       'metro_dist', 'attr_index', 'attr_index_norm', 'rest_index',\n",
       "       'rest_index_norm', 'lng', 'lat'],\n",
       "      dtype='object')"
      ]
     },
     "execution_count": 4,
     "metadata": {},
     "output_type": "execute_result"
    }
   ],
   "source": [
    "paris_weekend_data.columns"
   ]
  },
  {
   "cell_type": "code",
   "execution_count": 5,
   "id": "6e82ddc4",
   "metadata": {},
   "outputs": [],
   "source": [
    "paris_weekday_df = paris_weekday_data[\n",
    "    [\"realSum\", \"room_type\", \"room_shared\",\"person_capacity\", \"cleanliness_rating\",\n",
    "    \"guest_satisfaction_overall\", \"bedrooms\", \"dist\", \"metro_dist\", \"lng\", \"lat\"]\n",
    "]\n",
    "\n",
    "paris_weekend_df = paris_weekend_data[\n",
    "    [\"realSum\", \"room_type\", \"room_shared\",\"person_capacity\", \"cleanliness_rating\",\n",
    "    \"guest_satisfaction_overall\", \"bedrooms\", \"dist\", \"metro_dist\", \"lng\", \"lat\"]\n",
    "]"
   ]
  },
  {
   "cell_type": "code",
   "execution_count": 6,
   "id": "aa8e802b",
   "metadata": {},
   "outputs": [],
   "source": [
    "paris_weekday_df =paris_weekday_df.rename(columns={\n",
    "    \"realSum\":\"airbnb_weekday_price\", \"dist\":\"city_centre_dist\"\n",
    "})\n",
    "\n",
    "paris_weekend_df =paris_weekend_df.rename(columns={\n",
    "    \"realSum\":\"airbnb_weekend_price\", \"dist\":\"city_centre_dist\"\n",
    "})"
   ]
  },
  {
   "cell_type": "code",
   "execution_count": 7,
   "id": "8e7f6987",
   "metadata": {},
   "outputs": [],
   "source": [
    "paris_weekday_df = paris_weekday_df.dropna()\n",
    "paris_weekend_df = paris_weekend_df.dropna()"
   ]
  },
  {
   "cell_type": "code",
   "execution_count": 8,
   "id": "70b372fd",
   "metadata": {},
   "outputs": [
    {
     "name": "stdout",
     "output_type": "stream",
     "text": [
      "<class 'pandas.core.frame.DataFrame'>\n",
      "RangeIndex: 3130 entries, 0 to 3129\n",
      "Data columns (total 11 columns):\n",
      " #   Column                      Non-Null Count  Dtype  \n",
      "---  ------                      --------------  -----  \n",
      " 0   airbnb_weekday_price        3130 non-null   float64\n",
      " 1   room_type                   3130 non-null   object \n",
      " 2   room_shared                 3130 non-null   bool   \n",
      " 3   person_capacity             3130 non-null   float64\n",
      " 4   cleanliness_rating          3130 non-null   float64\n",
      " 5   guest_satisfaction_overall  3130 non-null   float64\n",
      " 6   bedrooms                    3130 non-null   int64  \n",
      " 7   city_centre_dist            3130 non-null   float64\n",
      " 8   metro_dist                  3130 non-null   float64\n",
      " 9   lng                         3130 non-null   float64\n",
      " 10  lat                         3130 non-null   float64\n",
      "dtypes: bool(1), float64(8), int64(1), object(1)\n",
      "memory usage: 247.7+ KB\n"
     ]
    }
   ],
   "source": [
    "paris_weekday_df.info()"
   ]
  },
  {
   "cell_type": "code",
   "execution_count": 9,
   "id": "baf33442",
   "metadata": {},
   "outputs": [
    {
     "name": "stdout",
     "output_type": "stream",
     "text": [
      "<class 'pandas.core.frame.DataFrame'>\n",
      "RangeIndex: 3558 entries, 0 to 3557\n",
      "Data columns (total 11 columns):\n",
      " #   Column                      Non-Null Count  Dtype  \n",
      "---  ------                      --------------  -----  \n",
      " 0   airbnb_weekend_price        3558 non-null   float64\n",
      " 1   room_type                   3558 non-null   object \n",
      " 2   room_shared                 3558 non-null   bool   \n",
      " 3   person_capacity             3558 non-null   float64\n",
      " 4   cleanliness_rating          3558 non-null   float64\n",
      " 5   guest_satisfaction_overall  3558 non-null   float64\n",
      " 6   bedrooms                    3558 non-null   int64  \n",
      " 7   city_centre_dist            3558 non-null   float64\n",
      " 8   metro_dist                  3558 non-null   float64\n",
      " 9   lng                         3558 non-null   float64\n",
      " 10  lat                         3558 non-null   float64\n",
      "dtypes: bool(1), float64(8), int64(1), object(1)\n",
      "memory usage: 281.6+ KB\n"
     ]
    }
   ],
   "source": [
    "paris_weekend_df.info()"
   ]
  },
  {
   "cell_type": "code",
   "execution_count": 10,
   "id": "ddb7a0d2",
   "metadata": {},
   "outputs": [
    {
     "name": "stdout",
     "output_type": "stream",
     "text": [
      "3130\n",
      "3558\n"
     ]
    }
   ],
   "source": [
    "print(len(paris_weekday_df))\n",
    "print(len(paris_weekend_df))"
   ]
  },
  {
   "cell_type": "code",
   "execution_count": 11,
   "id": "ff971fe0",
   "metadata": {},
   "outputs": [
    {
     "name": "stdout",
     "output_type": "stream",
     "text": [
      "[   1    2    3 ... 3128 3129 3130]\n",
      "[   1    2    3 ... 3556 3557 3558]\n"
     ]
    }
   ],
   "source": [
    "weekday_id = np.arange(1, 3131)\n",
    "weekend_id = np.arange(1, 3559)\n",
    "\n",
    "print(weekday_id)\n",
    "print(weekend_id)"
   ]
  },
  {
   "cell_type": "code",
   "execution_count": 12,
   "id": "8abf6ac0",
   "metadata": {},
   "outputs": [],
   "source": [
    "paris_weekday_ids = ['paris'+id.astype(str) for id in weekday_id]\n",
    "paris_weekend_ids = ['paris'+id.astype(str) for id in weekend_id]"
   ]
  },
  {
   "cell_type": "code",
   "execution_count": 13,
   "id": "bdde0f6b",
   "metadata": {},
   "outputs": [],
   "source": [
    "paris_weekday_df[\"weekday_id\"] = paris_weekday_ids\n",
    "paris_weekend_df[\"weekend_id\"] = paris_weekend_ids"
   ]
  },
  {
   "cell_type": "code",
   "execution_count": 14,
   "id": "3ed9a835",
   "metadata": {},
   "outputs": [
    {
     "data": {
      "text/plain": [
       "Index(['airbnb_weekday_price', 'room_type', 'room_shared', 'person_capacity',\n",
       "       'cleanliness_rating', 'guest_satisfaction_overall', 'bedrooms',\n",
       "       'city_centre_dist', 'metro_dist', 'lng', 'lat', 'weekday_id'],\n",
       "      dtype='object')"
      ]
     },
     "execution_count": 14,
     "metadata": {},
     "output_type": "execute_result"
    }
   ],
   "source": [
    "paris_weekday_df.columns"
   ]
  },
  {
   "cell_type": "code",
   "execution_count": 15,
   "id": "44832f2b",
   "metadata": {},
   "outputs": [
    {
     "data": {
      "text/plain": [
       "Index(['airbnb_weekend_price', 'room_type', 'room_shared', 'person_capacity',\n",
       "       'cleanliness_rating', 'guest_satisfaction_overall', 'bedrooms',\n",
       "       'city_centre_dist', 'metro_dist', 'lng', 'lat', 'weekend_id'],\n",
       "      dtype='object')"
      ]
     },
     "execution_count": 15,
     "metadata": {},
     "output_type": "execute_result"
    }
   ],
   "source": [
    "paris_weekend_df.columns"
   ]
  },
  {
   "cell_type": "code",
   "execution_count": 16,
   "id": "c3523587",
   "metadata": {},
   "outputs": [
    {
     "data": {
      "text/html": [
       "<div>\n",
       "<style scoped>\n",
       "    .dataframe tbody tr th:only-of-type {\n",
       "        vertical-align: middle;\n",
       "    }\n",
       "\n",
       "    .dataframe tbody tr th {\n",
       "        vertical-align: top;\n",
       "    }\n",
       "\n",
       "    .dataframe thead th {\n",
       "        text-align: right;\n",
       "    }\n",
       "</style>\n",
       "<table border=\"1\" class=\"dataframe\">\n",
       "  <thead>\n",
       "    <tr style=\"text-align: right;\">\n",
       "      <th></th>\n",
       "      <th>airbnb_weekday_price</th>\n",
       "      <th>room_type</th>\n",
       "      <th>room_shared</th>\n",
       "      <th>person_capacity</th>\n",
       "      <th>cleanliness_rating</th>\n",
       "      <th>guest_satisfaction_overall</th>\n",
       "      <th>bedrooms</th>\n",
       "      <th>city_centre_dist</th>\n",
       "      <th>metro_dist</th>\n",
       "      <th>lng</th>\n",
       "      <th>lat</th>\n",
       "    </tr>\n",
       "    <tr>\n",
       "      <th>weekday_id</th>\n",
       "      <th></th>\n",
       "      <th></th>\n",
       "      <th></th>\n",
       "      <th></th>\n",
       "      <th></th>\n",
       "      <th></th>\n",
       "      <th></th>\n",
       "      <th></th>\n",
       "      <th></th>\n",
       "      <th></th>\n",
       "      <th></th>\n",
       "    </tr>\n",
       "  </thead>\n",
       "  <tbody>\n",
       "    <tr>\n",
       "      <th>paris1</th>\n",
       "      <td>296.159940</td>\n",
       "      <td>Private room</td>\n",
       "      <td>False</td>\n",
       "      <td>2.0</td>\n",
       "      <td>10.0</td>\n",
       "      <td>97.0</td>\n",
       "      <td>1</td>\n",
       "      <td>0.699821</td>\n",
       "      <td>0.193709</td>\n",
       "      <td>2.35385</td>\n",
       "      <td>48.86282</td>\n",
       "    </tr>\n",
       "    <tr>\n",
       "      <th>paris2</th>\n",
       "      <td>288.237487</td>\n",
       "      <td>Private room</td>\n",
       "      <td>False</td>\n",
       "      <td>2.0</td>\n",
       "      <td>10.0</td>\n",
       "      <td>97.0</td>\n",
       "      <td>1</td>\n",
       "      <td>2.100005</td>\n",
       "      <td>0.107221</td>\n",
       "      <td>2.32436</td>\n",
       "      <td>48.85902</td>\n",
       "    </tr>\n",
       "    <tr>\n",
       "      <th>paris3</th>\n",
       "      <td>211.343089</td>\n",
       "      <td>Private room</td>\n",
       "      <td>False</td>\n",
       "      <td>2.0</td>\n",
       "      <td>10.0</td>\n",
       "      <td>94.0</td>\n",
       "      <td>1</td>\n",
       "      <td>3.302325</td>\n",
       "      <td>0.234724</td>\n",
       "      <td>2.31714</td>\n",
       "      <td>48.87475</td>\n",
       "    </tr>\n",
       "    <tr>\n",
       "      <th>paris4</th>\n",
       "      <td>298.956100</td>\n",
       "      <td>Entire home/apt</td>\n",
       "      <td>False</td>\n",
       "      <td>2.0</td>\n",
       "      <td>9.0</td>\n",
       "      <td>91.0</td>\n",
       "      <td>1</td>\n",
       "      <td>0.547567</td>\n",
       "      <td>0.195997</td>\n",
       "      <td>2.35600</td>\n",
       "      <td>48.86100</td>\n",
       "    </tr>\n",
       "    <tr>\n",
       "      <th>paris5</th>\n",
       "      <td>247.926181</td>\n",
       "      <td>Entire home/apt</td>\n",
       "      <td>False</td>\n",
       "      <td>4.0</td>\n",
       "      <td>7.0</td>\n",
       "      <td>82.0</td>\n",
       "      <td>1</td>\n",
       "      <td>1.197921</td>\n",
       "      <td>0.103573</td>\n",
       "      <td>2.35915</td>\n",
       "      <td>48.86648</td>\n",
       "    </tr>\n",
       "  </tbody>\n",
       "</table>\n",
       "</div>"
      ],
      "text/plain": [
       "            airbnb_weekday_price        room_type  room_shared  \\\n",
       "weekday_id                                                       \n",
       "paris1                296.159940     Private room        False   \n",
       "paris2                288.237487     Private room        False   \n",
       "paris3                211.343089     Private room        False   \n",
       "paris4                298.956100  Entire home/apt        False   \n",
       "paris5                247.926181  Entire home/apt        False   \n",
       "\n",
       "            person_capacity  cleanliness_rating  guest_satisfaction_overall  \\\n",
       "weekday_id                                                                    \n",
       "paris1                  2.0                10.0                        97.0   \n",
       "paris2                  2.0                10.0                        97.0   \n",
       "paris3                  2.0                10.0                        94.0   \n",
       "paris4                  2.0                 9.0                        91.0   \n",
       "paris5                  4.0                 7.0                        82.0   \n",
       "\n",
       "            bedrooms  city_centre_dist  metro_dist      lng       lat  \n",
       "weekday_id                                                             \n",
       "paris1             1          0.699821    0.193709  2.35385  48.86282  \n",
       "paris2             1          2.100005    0.107221  2.32436  48.85902  \n",
       "paris3             1          3.302325    0.234724  2.31714  48.87475  \n",
       "paris4             1          0.547567    0.195997  2.35600  48.86100  \n",
       "paris5             1          1.197921    0.103573  2.35915  48.86648  "
      ]
     },
     "execution_count": 16,
     "metadata": {},
     "output_type": "execute_result"
    }
   ],
   "source": [
    "paris_weekday_new = paris_weekday_df[\n",
    "    ['weekday_id', 'airbnb_weekday_price', 'room_type', 'room_shared', 'person_capacity',\n",
    "       'cleanliness_rating', 'guest_satisfaction_overall', 'bedrooms',\n",
    "       'city_centre_dist', 'metro_dist', 'lng', 'lat']\n",
    "].set_index('weekday_id', inplace=False)\n",
    "paris_weekday_new.head()"
   ]
  },
  {
   "cell_type": "code",
   "execution_count": 17,
   "id": "99fd1ed5",
   "metadata": {},
   "outputs": [
    {
     "data": {
      "text/html": [
       "<div>\n",
       "<style scoped>\n",
       "    .dataframe tbody tr th:only-of-type {\n",
       "        vertical-align: middle;\n",
       "    }\n",
       "\n",
       "    .dataframe tbody tr th {\n",
       "        vertical-align: top;\n",
       "    }\n",
       "\n",
       "    .dataframe thead th {\n",
       "        text-align: right;\n",
       "    }\n",
       "</style>\n",
       "<table border=\"1\" class=\"dataframe\">\n",
       "  <thead>\n",
       "    <tr style=\"text-align: right;\">\n",
       "      <th></th>\n",
       "      <th>airbnb_weekend_price</th>\n",
       "      <th>room_type</th>\n",
       "      <th>room_shared</th>\n",
       "      <th>person_capacity</th>\n",
       "      <th>cleanliness_rating</th>\n",
       "      <th>guest_satisfaction_overall</th>\n",
       "      <th>bedrooms</th>\n",
       "      <th>city_centre_dist</th>\n",
       "      <th>metro_dist</th>\n",
       "      <th>lng</th>\n",
       "      <th>lat</th>\n",
       "    </tr>\n",
       "    <tr>\n",
       "      <th>weekend_id</th>\n",
       "      <th></th>\n",
       "      <th></th>\n",
       "      <th></th>\n",
       "      <th></th>\n",
       "      <th></th>\n",
       "      <th></th>\n",
       "      <th></th>\n",
       "      <th></th>\n",
       "      <th></th>\n",
       "      <th></th>\n",
       "      <th></th>\n",
       "    </tr>\n",
       "  </thead>\n",
       "  <tbody>\n",
       "    <tr>\n",
       "      <th>paris1</th>\n",
       "      <td>536.396682</td>\n",
       "      <td>Entire home/apt</td>\n",
       "      <td>False</td>\n",
       "      <td>5.0</td>\n",
       "      <td>9.0</td>\n",
       "      <td>89.0</td>\n",
       "      <td>1</td>\n",
       "      <td>1.351201</td>\n",
       "      <td>0.212346</td>\n",
       "      <td>2.35900</td>\n",
       "      <td>48.86800</td>\n",
       "    </tr>\n",
       "    <tr>\n",
       "      <th>paris2</th>\n",
       "      <td>290.101594</td>\n",
       "      <td>Private room</td>\n",
       "      <td>False</td>\n",
       "      <td>2.0</td>\n",
       "      <td>10.0</td>\n",
       "      <td>97.0</td>\n",
       "      <td>1</td>\n",
       "      <td>0.699821</td>\n",
       "      <td>0.193710</td>\n",
       "      <td>2.35385</td>\n",
       "      <td>48.86282</td>\n",
       "    </tr>\n",
       "    <tr>\n",
       "      <th>paris3</th>\n",
       "      <td>445.754497</td>\n",
       "      <td>Entire home/apt</td>\n",
       "      <td>False</td>\n",
       "      <td>4.0</td>\n",
       "      <td>10.0</td>\n",
       "      <td>100.0</td>\n",
       "      <td>1</td>\n",
       "      <td>0.968982</td>\n",
       "      <td>0.294343</td>\n",
       "      <td>2.36023</td>\n",
       "      <td>48.86375</td>\n",
       "    </tr>\n",
       "    <tr>\n",
       "      <th>paris4</th>\n",
       "      <td>211.343089</td>\n",
       "      <td>Private room</td>\n",
       "      <td>False</td>\n",
       "      <td>2.0</td>\n",
       "      <td>10.0</td>\n",
       "      <td>94.0</td>\n",
       "      <td>1</td>\n",
       "      <td>3.302319</td>\n",
       "      <td>0.234740</td>\n",
       "      <td>2.31714</td>\n",
       "      <td>48.87475</td>\n",
       "    </tr>\n",
       "    <tr>\n",
       "      <th>paris5</th>\n",
       "      <td>266.334234</td>\n",
       "      <td>Entire home/apt</td>\n",
       "      <td>False</td>\n",
       "      <td>2.0</td>\n",
       "      <td>9.0</td>\n",
       "      <td>88.0</td>\n",
       "      <td>1</td>\n",
       "      <td>1.402430</td>\n",
       "      <td>0.055052</td>\n",
       "      <td>2.33408</td>\n",
       "      <td>48.85384</td>\n",
       "    </tr>\n",
       "  </tbody>\n",
       "</table>\n",
       "</div>"
      ],
      "text/plain": [
       "            airbnb_weekend_price        room_type  room_shared  \\\n",
       "weekend_id                                                       \n",
       "paris1                536.396682  Entire home/apt        False   \n",
       "paris2                290.101594     Private room        False   \n",
       "paris3                445.754497  Entire home/apt        False   \n",
       "paris4                211.343089     Private room        False   \n",
       "paris5                266.334234  Entire home/apt        False   \n",
       "\n",
       "            person_capacity  cleanliness_rating  guest_satisfaction_overall  \\\n",
       "weekend_id                                                                    \n",
       "paris1                  5.0                 9.0                        89.0   \n",
       "paris2                  2.0                10.0                        97.0   \n",
       "paris3                  4.0                10.0                       100.0   \n",
       "paris4                  2.0                10.0                        94.0   \n",
       "paris5                  2.0                 9.0                        88.0   \n",
       "\n",
       "            bedrooms  city_centre_dist  metro_dist      lng       lat  \n",
       "weekend_id                                                             \n",
       "paris1             1          1.351201    0.212346  2.35900  48.86800  \n",
       "paris2             1          0.699821    0.193710  2.35385  48.86282  \n",
       "paris3             1          0.968982    0.294343  2.36023  48.86375  \n",
       "paris4             1          3.302319    0.234740  2.31714  48.87475  \n",
       "paris5             1          1.402430    0.055052  2.33408  48.85384  "
      ]
     },
     "execution_count": 17,
     "metadata": {},
     "output_type": "execute_result"
    }
   ],
   "source": [
    "paris_weekend_new = paris_weekend_df[\n",
    "    ['weekend_id', 'airbnb_weekend_price', 'room_type', 'room_shared', 'person_capacity',\n",
    "       'cleanliness_rating', 'guest_satisfaction_overall', 'bedrooms',\n",
    "       'city_centre_dist', 'metro_dist', 'lng', 'lat']\n",
    "].set_index('weekend_id', inplace=False)\n",
    "paris_weekend_new.head()"
   ]
  },
  {
   "cell_type": "code",
   "execution_count": 20,
   "id": "98ba5f69",
   "metadata": {},
   "outputs": [],
   "source": [
    "paris_weekend_new.to_csv(\"cleaned_files/paris_weekend.csv\", encoding='utf8')\n",
    "paris_weekday_new.to_csv(\"cleaned_files/paris_weekday.csv\", encoding='utf8')"
   ]
  },
  {
   "cell_type": "code",
   "execution_count": null,
   "id": "0a91e638",
   "metadata": {},
   "outputs": [],
   "source": []
  }
 ],
 "metadata": {
  "kernelspec": {
   "display_name": "Python 3 (ipykernel)",
   "language": "python",
   "name": "python3"
  },
  "language_info": {
   "codemirror_mode": {
    "name": "ipython",
    "version": 3
   },
   "file_extension": ".py",
   "mimetype": "text/x-python",
   "name": "python",
   "nbconvert_exporter": "python",
   "pygments_lexer": "ipython3",
   "version": "3.9.12"
  }
 },
 "nbformat": 4,
 "nbformat_minor": 5
}
